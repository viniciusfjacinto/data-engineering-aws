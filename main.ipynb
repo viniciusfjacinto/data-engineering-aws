{
  "nbformat": 4,
  "nbformat_minor": 0,
  "metadata": {
    "colab": {
      "provenance": [],
      "authorship_tag": "ABX9TyOha0NL02AWrzCf41aK5ZeB",
      "include_colab_link": true
    },
    "kernelspec": {
      "name": "python3",
      "display_name": "Python 3"
    },
    "language_info": {
      "name": "python"
    }
  },
  "cells": [
    {
      "cell_type": "markdown",
      "metadata": {
        "id": "view-in-github",
        "colab_type": "text"
      },
      "source": [
        "<a href=\"https://colab.research.google.com/github/viniciusfjacinto/data-engineering-test/blob/main/teste_eng_jr.ipynb\" target=\"_parent\"><img src=\"https://colab.research.google.com/assets/colab-badge.svg\" alt=\"Open In Colab\"/></a>"
      ]
    },
    {
      "cell_type": "markdown",
      "source": [
        "# Inserting new Data into S3"
      ],
      "metadata": {
        "id": "kQWlks8jBcRO"
      }
    },
    {
      "cell_type": "code",
      "execution_count": 99,
      "metadata": {
        "id": "eVwiBTeKH28T"
      },
      "outputs": [],
      "source": [
        "!pip install awswrangler\n",
        "!pip install boto3\n",
        "!pip install dotenv\n",
        "!pip install pyathena\n",
        "\n",
        "import boto3\n",
        "import awswrangler as wr\n",
        "import pandas as pd\n",
        "from pyathena import connect\n",
        "import os\n",
        "import dotenv\n",
        "dotenv.load_dotenv()\n",
        "\n",
        "# Creating a connection between Python and AWS S3\n",
        "session = boto3.Session(\n",
        "    aws_access_key_id=os.environ['aws_access_key'],\n",
        "    aws_secret_access_key=os.environ['aws_secret_key'],\n",
        "    region_name=os.environ['aws_region']\n",
        ")\n",
        "\n",
        "s3_client = session.client('s3')"
      ]
    },
    {
      "cell_type": "code",
      "source": [
        "#Reading csv tables that will structure our schema\n",
        "person_person = pd.read_csv('Person.Person.csv', sep = ';', decimal=\",\")\n",
        "production_product = pd.read_csv('Production.Product.csv', sep = ';', decimal=\",\")\n",
        "sales_customer = pd.read_csv('Sales.Customer.csv', sep = ';', decimal=\",\")\n",
        "sales_orderdetail = pd.read_csv('Sales.SalesOrderDetail.csv', sep = ';')\n",
        "sales_orderheader = pd.read_csv('Sales.SalesOrderHeader.csv', sep = ';', decimal=\",\")\n",
        "sales_specialofferproduct = pd.read_csv('Sales.SpecialOfferProduct.csv', sep = ';', decimal=\",\")\n",
        "\n",
        "#Creating a list of dataframes and their names for easy and fast insertion\n",
        "dataframe_names = [\"person_person\",\"production_product\", \"sales_customer\", \"sales_orderdetail\", \"sales_orderheader\", \"sales_specialofferproduct\"]\n",
        "dataframes = [person_person, production_product, sales_customer, sales_orderdetail, sales_orderheader, sales_specialofferproduct]"
      ],
      "metadata": {
        "id": "03EyUstgICS_"
      },
      "execution_count": 88,
      "outputs": []
    },
    {
      "cell_type": "code",
      "source": [
        "#Inserting data into S3 Bucket in Parquet while creating Amazon Athena's tables\n",
        "\n",
        "for i,j in zip(dataframes,dataframe_names):\n",
        "\n",
        "    wr.s3.to_parquet(\n",
        "        df=i,\n",
        "        path=f\"s3://{os.environ['raw']}/{j}\",\n",
        "        dataset=True,\n",
        "        database=os.environ['raw'], #this will be our raw/landing zone\n",
        "        mode = \"overwrite\", #we will replace table/bucket file if exists\n",
        "        table=f\"{j}\",\n",
        "        boto3_session = session #here we use the connection created initially\n",
        "\n",
        "    )\n",
        "\n",
        "    print(f\"Insert of table {j} sucessful\")"
      ],
      "metadata": {
        "colab": {
          "base_uri": "https://localhost:8080/"
        },
        "id": "8wnin7exK2Vy",
        "outputId": "4c536b5a-e5ca-4460-e9a7-23a433299020"
      },
      "execution_count": 89,
      "outputs": [
        {
          "output_type": "stream",
          "name": "stdout",
          "text": [
            "Insert of table person_person sucessful\n",
            "Insert of table production_product sucessful\n",
            "Insert of table sales_customer sucessful\n",
            "Insert of table sales_orderdetail sucessful\n",
            "Insert of table sales_orderheader sucessful\n",
            "Insert of table sales_specialofferproduct sucessful\n"
          ]
        }
      ]
    },
    {
      "cell_type": "code",
      "source": [
        "#Create a new AWS connection for querying in Athena\n",
        "\n",
        "def connect_aws():\n",
        "\n",
        "  conn = connect(aws_access_key_id=os.environ['aws_access_key'],\n",
        "                aws_secret_access_key=os.environ['aws_secret_key'],\n",
        "                s3_staging_dir=os.environ['s3_staging_dir'],\n",
        "                region_name=os.environ['aws_region'])\n",
        "  return conn"
      ],
      "metadata": {
        "id": "P46I1asyS20f"
      },
      "execution_count": 100,
      "outputs": []
    },
    {
      "cell_type": "markdown",
      "source": [
        "#Data Analysis / Answering Questions with SQL"
      ],
      "metadata": {
        "id": "Nj-DrBJdBVxm"
      }
    },
    {
      "cell_type": "code",
      "source": [
        "# 1.\tEscreva uma query que retorna a quantidade de linhas na tabela Sales.SalesOrderDetail\n",
        "# pelo campo SalesOrderID, desde que tenham pelo menos três linhas de detalhes.\n",
        "\n",
        "\n",
        "details_by_sales = pd.read_sql(\n",
        "\"\"\"\n",
        "SELECT SalesOrderID, COUNT(*) AS NumberOfDetails\n",
        "FROM \"raw\".sales_orderdetail\n",
        "GROUP BY SalesOrderID\n",
        "HAVING COUNT(*) >= 3\n",
        "\"\"\",\n",
        "connect_aws())\n",
        "\n",
        "print(f\"Total de Linhas: {details_by_sales['NumberOfDetails'].sum()}\\n\")\n",
        "print(f\"Total de Linhas por SalesOrderID:\\n {details_by_sales.head()}\")"
      ],
      "metadata": {
        "colab": {
          "base_uri": "https://localhost:8080/"
        },
        "id": "ADFpKBtpTNKB",
        "outputId": "29cebf0a-f0bf-40ad-e42b-9c33d6aac4bc"
      },
      "execution_count": 57,
      "outputs": [
        {
          "output_type": "stream",
          "name": "stdout",
          "text": [
            "Total de Linhas: 94157\n",
            "\n",
            "Total de Linhas por SalesOrderID:\n",
            "    SalesOrderID  NumberOfDetails\n",
            "0         43661               15\n",
            "1         43671               11\n",
            "2         43676                5\n",
            "3         43678               19\n",
            "4         43683               13\n"
          ]
        }
      ]
    },
    {
      "cell_type": "code",
      "source": [
        "# 2. Escreva uma query que ligue as tabelas Sales.SalesOrderDetail, Sales.SpecialOfferProduct e Production.Product\n",
        "# e retorne os 3 produtos (Name) mais vendidos (pela soma de OrderQty),\n",
        "# agrupados pelo número de dias para manufatura (DaysToManufacture).\n",
        "\n",
        "top3_products_by_orderqty = pd.read_sql(\n",
        "\"\"\"\n",
        "SELECT\n",
        "    pp.Name AS ProductName,\n",
        "    pp.DaysToManufacture,\n",
        "    SUM(sod.OrderQty) AS TotalOrderQuantity\n",
        "FROM\n",
        "\"raw\".sales_orderdetail sod\n",
        "INNER JOIN \"raw\".sales_specialofferproduct ssop\n",
        "  ON sod.specialofferid = ssop.specialofferid and sod.productid = ssop.productid\n",
        "INNER JOIN \"raw\".production_product pp\n",
        "  ON pp.productid = ssop.productid\n",
        "GROUP BY\n",
        "    pp.Name, pp.DaysToManufacture\n",
        "ORDER BY\n",
        "    SUM(sod.OrderQty) DESC\n",
        "LIMIT 3\n",
        "\"\"\",\n",
        "connect_aws()\n",
        ")\n",
        "\n",
        "print(f\"Principais produtos mais vendidos:\\n {top3_products_by_orderqty}\")"
      ],
      "metadata": {
        "colab": {
          "base_uri": "https://localhost:8080/"
        },
        "id": "KVP9AjYyT9iZ",
        "outputId": "540df1c4-6522-47a7-bb5e-1a175dd7265a"
      },
      "execution_count": 58,
      "outputs": [
        {
          "output_type": "stream",
          "name": "stdout",
          "text": [
            "Principais produtos mais vendidos:\n",
            "               ProductName  DaysToManufacture  TotalOrderQuantity\n",
            "0            AWC Logo Cap                  0                8311\n",
            "1   Water Bottle - 30 oz.                  0                6815\n",
            "2  Sport-100 Helmet, Blue                  0                6743\n"
          ]
        }
      ]
    },
    {
      "cell_type": "code",
      "source": [
        "# 3.\tEscreva uma query ligando as tabelas Person.Person, Sales.Customer e Sales.SalesOrderHeader\n",
        "# de forma a obter uma lista de nomes de clientes e uma contagem de pedidos efetuados.\n",
        "\n",
        "orders_by_person = pd.read_sql(\n",
        "\"\"\"\n",
        "SELECT\n",
        "    pe.businessentityid as PersonID,\n",
        "    CONCAT(coalesce(pe.FirstName,''), ' ', COALESCE(pe.middlename,''), ' ', COALESCE(pe.LastName,'')) AS CustomerName,\n",
        "    COUNT(soh.SalesOrderID) AS NumberOfOrders\n",
        "FROM\n",
        "    \"raw\".Person_Person pe\n",
        "INNER JOIN\n",
        "    \"raw\".sales_customer sc ON pe.BusinessEntityID = sc.PersonID\n",
        "INNER JOIN\n",
        "    \"raw\".sales_orderheader soh ON sc.CustomerID = soh.CustomerID\n",
        "GROUP BY\n",
        "    1,2\n",
        "ORDER BY\n",
        "    COUNT(soh.SalesOrderID) desc\n",
        "\"\"\",\n",
        "connect_aws()\n",
        ")\n",
        "\n",
        "print(f\"Pedidos por cliente: \\n {orders_by_person.head()}\")"
      ],
      "metadata": {
        "colab": {
          "base_uri": "https://localhost:8080/"
        },
        "id": "xgIcne0uWSVq",
        "outputId": "2bcac6e7-6424-4c6b-886d-f6dd9e24d860"
      },
      "execution_count": 61,
      "outputs": [
        {
          "output_type": "stream",
          "name": "stdout",
          "text": [
            "Pedidos por cliente: \n",
            "    PersonID       CustomerName  NumberOfOrders\n",
            "0      4515      Dalton  Perez              28\n",
            "1     15994    Mason D Roberts              28\n",
            "2      4855  Charles P Jackson              27\n",
            "3     12526  Samantha  Jenkins              27\n",
            "4     17961    Ryan M Thompson              27\n"
          ]
        }
      ]
    },
    {
      "cell_type": "code",
      "source": [
        "#4.\tEscreva uma query usando as tabelas Sales.SalesOrderHeader, Sales.SalesOrderDetail e Production.Product,\n",
        "# de forma a obter a soma total de produtos (OrderQty) por ProductID e OrderDate.\n",
        "\n",
        "product_orders_by_day = pd.read_sql(\n",
        "\"\"\"SELECT\n",
        "    sod.ProductID,\n",
        "    pp.name ProductName,\n",
        "    soh.OrderDate,\n",
        "    SUM(sod.OrderQty) AS TotalOrderQuantity\n",
        "FROM\n",
        "\"raw\".sales_orderheader soh\n",
        "INNER JOIN \"raw\".sales_orderdetail sod\n",
        "ON sod.salesorderid = soh.salesorderid\n",
        "INNER JOIN \"raw\".production_product pp\n",
        "ON pp.productid = sod.productid\n",
        "GROUP BY\n",
        "    sod.ProductID, pp.name, soh.OrderDate\n",
        "\"\"\",\n",
        "connect_aws()\n",
        ")\n",
        "\n",
        "print(f\"Pedidos por Produto e Data: \\n {product_orders_by_day.head()}\")"
      ],
      "metadata": {
        "colab": {
          "base_uri": "https://localhost:8080/"
        },
        "id": "DdcvyJ2FWVuK",
        "outputId": "e91dd531-6160-4913-ec01-883225231c96"
      },
      "execution_count": 64,
      "outputs": [
        {
          "output_type": "stream",
          "name": "stdout",
          "text": [
            "Pedidos por Produto e Data: \n",
            "    ProductID              ProductName                OrderDate  \\\n",
            "0        771  Mountain-100 Silver, 38  2011-05-31 00:00:00.000   \n",
            "1        775   Mountain-100 Black, 38  2011-05-31 00:00:00.000   \n",
            "2        733  ML Road Frame - Red, 52  2011-05-31 00:00:00.000   \n",
            "3        729  LL Road Frame - Red, 60  2011-05-31 00:00:00.000   \n",
            "4        756         Road-450 Red, 44  2011-05-31 00:00:00.000   \n",
            "\n",
            "   TotalOrderQuantity  \n",
            "0                  10  \n",
            "1                  22  \n",
            "2                   4  \n",
            "3                  16  \n",
            "4                  14  \n"
          ]
        }
      ]
    },
    {
      "cell_type": "code",
      "source": [
        "# 5.\tEscreva uma query mostrando os campos SalesOrderID, OrderDate e TotalDue da tabela Sales.SalesOrderHeader.\n",
        "# Obtenha apenas as linhas onde a ordem tenha sido feita durante o mês de setembro/2011\n",
        "# e o total devido esteja acima de 1.000. Ordene pelo total devido decrescente.\n",
        "\n",
        "sales_by_date_due = pd.read_sql(\n",
        "\"\"\"\n",
        "SELECT\n",
        "    SalesOrderID,\n",
        "    OrderDate,\n",
        "    TotalDue\n",
        "FROM\n",
        "    \"raw\".sales_orderheader\n",
        "WHERE\n",
        "    YEAR(CAST(OrderDate as TIMESTAMP)) = 2011\n",
        "    AND MONTH(CAST(OrderDate AS TIMESTAMP)) = 9\n",
        "    AND TotalDue > 1000\n",
        "ORDER BY\n",
        "    TotalDue DESC;\n",
        "\"\"\",\n",
        "connect_aws()\n",
        ")\n",
        "\n",
        "print(f\"Pedidos por Produto e Data: \\n {sales_by_date_due.head()}\")"
      ],
      "metadata": {
        "colab": {
          "base_uri": "https://localhost:8080/"
        },
        "id": "1PTfDPa1WY4J",
        "outputId": "3ee84256-4338-47ec-c806-c72778eaa159"
      },
      "execution_count": 96,
      "outputs": [
        {
          "output_type": "stream",
          "name": "stdout",
          "text": [
            "Pedidos por Produto e Data: \n",
            "    SalesOrderID                OrderDate   TotalDue\n",
            "0         44324  2011-09-01 00:00:00.000  3953.9884\n",
            "1         44441  2011-09-22 00:00:00.000  3953.9884\n",
            "2         44443  2011-09-22 00:00:00.000  3953.9884\n",
            "3         44444  2011-09-24 00:00:00.000  3953.9884\n",
            "4         44445  2011-09-25 00:00:00.000  3953.9884\n"
          ]
        }
      ]
    }
  ]
}
